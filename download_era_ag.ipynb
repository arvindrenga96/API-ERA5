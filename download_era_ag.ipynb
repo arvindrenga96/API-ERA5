{
 "cells": [
  {
   "cell_type": "markdown",
   "metadata": {
    "id": "EKLJTLUarn5C"
   },
   "source": [
    "# Download ERA5 data "
   ]
  },
  {
   "cell_type": "code",
   "execution_count": 10,
   "metadata": {
    "id": "BfFsr-Kdrn5E"
   },
   "outputs": [],
   "source": [
    "import os\n",
    "from IPython.display import HTML\n",
    "from IPython.display import display\n",
    "import api_func_ag\n",
    "from datetime import datetime, timedelta\n",
    "from netCDF4 import Dataset\n",
    "import numpy as np\n",
    "import xarray as xr"
   ]
  },
  {
   "cell_type": "markdown",
   "metadata": {
    "id": "Xe3rurPLrn5H"
   },
   "source": [
    "## Pre-requirements\n"
   ]
  },
  {
   "cell_type": "markdown",
   "metadata": {
    "id": "TeZ1PcBYrn5K"
   },
   "source": [
    "In order to download ERA5 data using an API, you will have to get a UDI and a personal key. To get those, you will have to register to the Copernicus platform using the following link : https://cds.climate.copernicus.eu/user/login\n",
    "<br>Enter/copy paste your UDI and your key in the cells below"
   ]
  },
  {
   "cell_type": "code",
   "execution_count": 11,
   "metadata": {
    "id": "ZmcZ9o4Zrn5L"
   },
   "outputs": [],
   "source": [
    "udi = '83f26bcf-91c9-4570-bfbc-aceb220f80a7'\n",
    "key = 'e6487f45-a948-4134-b1e0-4d8087f87c73' "
   ]
  },
  {
   "cell_type": "markdown",
   "metadata": {
    "id": "_ukskxJq9TH_"
   },
   "source": [
    "Below you can add a filename after your variable names (eg, `filename = 'ERA5'` will give you __u10_ERA5__).\n",
    "<br>\n",
    "By default, files will be downloaded in your home directory, in the subdirectory __api__ , but you can change it through the variable __path__ (otherwise let default value `path = 'None'`)."
   ]
  },
  {
   "cell_type": "code",
   "execution_count": 12,
   "metadata": {
    "id": "yfRYxbz9rn5J"
   },
   "outputs": [],
   "source": [
    "filename = 'test_final_v2'\n",
    "path = '/home/kumarv/renga/Documents/Fall_24/API-ERA5/Data'"
   ]
  },
  {
   "cell_type": "code",
   "execution_count": 13,
   "metadata": {},
   "outputs": [
    {
     "data": {
      "text/plain": [
       "['test_final.nc']"
      ]
     },
     "execution_count": 13,
     "metadata": {},
     "output_type": "execute_result"
    }
   ],
   "source": [
    "os.listdir('/home/kumarv/renga/Documents/Fall_24/API-ERA5/Data')"
   ]
  },
  {
   "cell_type": "markdown",
   "metadata": {
    "id": "pazc3WSCrn5N"
   },
   "source": [
    "## Variable, time period and geographical location\n",
    "\n",
    "ERA5 provides hourly estimates for a large number of ocean-wave and atmospheric variables (see list [here](https://cds.climate.copernicus.eu/cdsapp#!/dataset/reanalysis-era5-single-levels?tab=overview)). Variable names must be formatted with lowercase first letters, and composed words spaced by underscores (eg, Sea surface temperature in `'sea_surface_temperature'`, 10m u-component of wind in `'10m_u_component_of_wind'`). Use the alias `'all'` to select all available months, days or hours, otherwise set one or several elements as a list (eg, `'days = ['01','02']'`)."
   ]
  },
  {
   "cell_type": "code",
   "execution_count": 14,
   "metadata": {
    "id": "qqBnRqMarn5N"
   },
   "outputs": [],
   "source": [
    "# CHOOSE WHICH SINGLE LEVELS TO DOWNLOAD IN data\n",
    "variables = [\n",
    "\"precipitation_flux\",\"solar_radiation_flux\"\n",
    "    ]\n",
    "\n",
    "years = ['2000'] \n",
    "\n",
    "months = ['01'] #'all'\n",
    "#Or set one or several months as a list\n",
    "# ['01','02','03','04','05','06','07','08','09','10','11','12']\n",
    "\n",
    "days = ['01', '02', '03','04','05','06','07'] # 'all' #['01'] #'all'\n",
    "#Or set one or several days as a list\n",
    "# ['01', '02', 03','04','05','06','07','08','09','10','11','12','13','14','15','16','17',\n",
    "                   #'18','19','20','21','22','23','24','25','26','27','28','29','30','31']\n",
    "\n",
    "hours = 'all'\n",
    "#Or set one or several hours as a list\n",
    "#['00:00','01:00','02:00','03:00','04:00', '05:00','06:00','07:00','08:00',\n",
    "                     #'09:00','10:00','11:00','12:00','13:00','14:00','15:00','16:00','17:00','18:00','19:00',\n",
    "                     #'20:00','21:00','22:00','23:00']\n",
    "\n",
    "# Boundaries of the geographical area in decimal degrees\n",
    "north_boundary = 90\n",
    "south_boundary = -90\n",
    "east_boundary = 180\n",
    "west_boundary = -180\n"
   ]
  },
  {
   "cell_type": "markdown",
   "metadata": {
    "id": "liGkTga7rn5R"
   },
   "source": [
    "## Print summary and run download"
   ]
  },
  {
   "cell_type": "code",
   "execution_count": 15,
   "metadata": {
    "colab": {
     "base_uri": "https://localhost:8080/"
    },
    "id": "YoILJSs4rn5S",
    "outputId": "80e4ab26-8077-465f-a04d-a92da1356987"
   },
   "outputs": [],
   "source": [
    "api_func_ag.make_cds_file(key, path)"
   ]
  },
  {
   "cell_type": "code",
   "execution_count": 16,
   "metadata": {},
   "outputs": [
    {
     "name": "stdout",
     "output_type": "stream",
     "text": [
      "You have selected : \n",
      "\n",
      "   - precipitation_flux\n",
      "   - solar_radiation_flux\n",
      "\n",
      "for the following times\n",
      "Years : ['2000'] \n",
      " Months : ['01'] \n",
      " Days : ['01', '02', '03', '04', '05', '06', '07'] \n",
      " Hours : all\n",
      "\n",
      "Your boundaries are : North 90°, South -90°, East 180°, West -180°\n"
     ]
    },
    {
     "name": "stderr",
     "output_type": "stream",
     "text": [
      "2024-10-14 02:42:25,360 INFO [2024-09-28T00:00:00] **Welcome to the New Climate Data Store (CDS)!** This new system is in its early days of full operations and still undergoing enhancements and fine tuning. Some disruptions are to be expected. Your \n",
      "[feedback](https://jira.ecmwf.int/plugins/servlet/desk/portal/1/create/202) is key to improve the user experience on the new CDS for the benefit of everyone. Thank you.\n",
      "2024-10-14 02:42:25,361 WARNING [2024-09-26T00:00:00] Should you have not yet migrated from the old CDS system to the new CDS, please check our [informative page](https://confluence.ecmwf.int/x/uINmFw) for guidance.\n",
      "2024-10-14 02:42:25,361 INFO [2024-09-26T00:00:00] Watch our [Forum](https://forum.ecmwf.int/) for Announcements, news and other discussed topics.\n",
      "2024-10-14 02:42:25,362 INFO [2024-09-16T00:00:00] Remember that you need to have an ECMWF account to use the new CDS. **Your old CDS credentials will not work in new CDS!**\n",
      "2024-10-14 02:42:25,362 WARNING [2024-06-16T00:00:00] CDS API syntax is changed and some keys or parameter names may have also changed. To avoid requests failing, please use the \"Show API request code\" tool on the dataset Download Form to check you are using the correct syntax for your API request.\n",
      "2024-10-14 02:42:25,862 INFO [2024-02-01T00:00:00] An issue has been identified with version 1.0 & version 1.1 of this dataset. Please see the Known issues table in the Documentation for more information.\n",
      "2024-10-14 02:42:25,863 INFO Request ID is 7bf09aa6-0bd4-4b2b-a2c1-14a3752e7daf\n",
      "2024-10-14 02:42:26,781 INFO status has been updated to accepted\n",
      "2024-10-14 02:42:29,371 INFO status has been updated to successful\n"
     ]
    },
    {
     "data": {
      "application/vnd.jupyter.widget-view+json": {
       "model_id": "deb6b3ea9a5c4f019221c7c3cb65b2a7",
       "version_major": 2,
       "version_minor": 0
      },
      "text/plain": [
       "47dd21f3ef81c8664581dc14af842008.zip:   0%|          | 0.00/46.3M [00:00<?, ?B/s]"
      ]
     },
     "metadata": {},
     "output_type": "display_data"
    }
   ],
   "source": [
    "api_func_ag.return_cdsbeta(filename, variables, years, months, days, hours,  [north_boundary, west_boundary, south_boundary, east_boundary])"
   ]
  },
  {
   "cell_type": "markdown",
   "metadata": {
    "id": "5axtOcEMCxkn"
   },
   "source": [
    "### Code to visualize your variables"
   ]
  },
  {
   "cell_type": "code",
   "execution_count": null,
   "metadata": {},
   "outputs": [],
   "source": []
  }
 ],
 "metadata": {
  "celltoolbar": "Tags",
  "colab": {
   "provenance": []
  },
  "kernelspec": {
   "display_name": "Python [conda env:main_a100] *",
   "language": "python",
   "name": "conda-env-main_a100-py"
  },
  "language_info": {
   "codemirror_mode": {
    "name": "ipython",
    "version": 3
   },
   "file_extension": ".py",
   "mimetype": "text/x-python",
   "name": "python",
   "nbconvert_exporter": "python",
   "pygments_lexer": "ipython3",
   "version": "3.10.11"
  }
 },
 "nbformat": 4,
 "nbformat_minor": 4
}
